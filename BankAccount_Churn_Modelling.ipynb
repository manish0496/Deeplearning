{
 "cells": [
  {
   "cell_type": "markdown",
   "metadata": {},
   "source": [
    "# Data Pre-Processing"
   ]
  },
  {
   "cell_type": "code",
   "execution_count": 2,
   "metadata": {},
   "outputs": [],
   "source": [
    "import numpy as np\n",
    "import matplotlib.pyplot as plt\n",
    "import pandas as pd"
   ]
  },
  {
   "cell_type": "code",
   "execution_count": 3,
   "metadata": {},
   "outputs": [],
   "source": [
    "df=pd.read_csv(r\"C:\\Users\\aniru\\Downloads\\Artificial_Neural_Networks\\data.csv.csv\")"
   ]
  },
  {
   "cell_type": "code",
   "execution_count": 4,
   "metadata": {},
   "outputs": [
    {
     "data": {
      "text/plain": [
       "(10000, 14)"
      ]
     },
     "execution_count": 4,
     "metadata": {},
     "output_type": "execute_result"
    }
   ],
   "source": [
    "df.shape"
   ]
  },
  {
   "cell_type": "markdown",
   "metadata": {},
   "source": [
    "# Storing independant variables"
   ]
  },
  {
   "cell_type": "code",
   "execution_count": 5,
   "metadata": {},
   "outputs": [
    {
     "data": {
      "text/plain": [
       "(10000, 10)"
      ]
     },
     "execution_count": 5,
     "metadata": {},
     "output_type": "execute_result"
    }
   ],
   "source": [
    "X=df.iloc[:, 3:13].values\n",
    "X.shape\n"
   ]
  },
  {
   "cell_type": "markdown",
   "metadata": {},
   "source": [
    "# Storing Dependant Variables"
   ]
  },
  {
   "cell_type": "code",
   "execution_count": 6,
   "metadata": {},
   "outputs": [
    {
     "data": {
      "text/plain": [
       "(10000,)"
      ]
     },
     "execution_count": 6,
     "metadata": {},
     "output_type": "execute_result"
    }
   ],
   "source": [
    "Y=df.iloc[:,-1].values\n",
    "Y.shape"
   ]
  },
  {
   "cell_type": "markdown",
   "metadata": {},
   "source": [
    "# Preprocessing"
   ]
  },
  {
   "cell_type": "code",
   "execution_count": 7,
   "metadata": {},
   "outputs": [
    {
     "data": {
      "text/html": [
       "<div>\n",
       "<style scoped>\n",
       "    .dataframe tbody tr th:only-of-type {\n",
       "        vertical-align: middle;\n",
       "    }\n",
       "\n",
       "    .dataframe tbody tr th {\n",
       "        vertical-align: top;\n",
       "    }\n",
       "\n",
       "    .dataframe thead th {\n",
       "        text-align: right;\n",
       "    }\n",
       "</style>\n",
       "<table border=\"1\" class=\"dataframe\">\n",
       "  <thead>\n",
       "    <tr style=\"text-align: right;\">\n",
       "      <th></th>\n",
       "      <th>RowNumber</th>\n",
       "      <th>CustomerId</th>\n",
       "      <th>Surname</th>\n",
       "      <th>CreditScore</th>\n",
       "      <th>Geography</th>\n",
       "      <th>Gender</th>\n",
       "      <th>Age</th>\n",
       "      <th>Tenure</th>\n",
       "      <th>Balance</th>\n",
       "      <th>NumOfProducts</th>\n",
       "      <th>HasCrCard</th>\n",
       "      <th>IsActiveMember</th>\n",
       "      <th>EstimatedSalary</th>\n",
       "      <th>Exited</th>\n",
       "    </tr>\n",
       "  </thead>\n",
       "  <tbody>\n",
       "    <tr>\n",
       "      <th>0</th>\n",
       "      <td>1</td>\n",
       "      <td>15634602</td>\n",
       "      <td>Hargrave</td>\n",
       "      <td>619</td>\n",
       "      <td>France</td>\n",
       "      <td>Female</td>\n",
       "      <td>42</td>\n",
       "      <td>2</td>\n",
       "      <td>0.00</td>\n",
       "      <td>1</td>\n",
       "      <td>1</td>\n",
       "      <td>1</td>\n",
       "      <td>101348.88</td>\n",
       "      <td>1</td>\n",
       "    </tr>\n",
       "    <tr>\n",
       "      <th>1</th>\n",
       "      <td>2</td>\n",
       "      <td>15647311</td>\n",
       "      <td>Hill</td>\n",
       "      <td>608</td>\n",
       "      <td>Spain</td>\n",
       "      <td>Female</td>\n",
       "      <td>41</td>\n",
       "      <td>1</td>\n",
       "      <td>83807.86</td>\n",
       "      <td>1</td>\n",
       "      <td>0</td>\n",
       "      <td>1</td>\n",
       "      <td>112542.58</td>\n",
       "      <td>0</td>\n",
       "    </tr>\n",
       "    <tr>\n",
       "      <th>2</th>\n",
       "      <td>3</td>\n",
       "      <td>15619304</td>\n",
       "      <td>Onio</td>\n",
       "      <td>502</td>\n",
       "      <td>France</td>\n",
       "      <td>Female</td>\n",
       "      <td>42</td>\n",
       "      <td>8</td>\n",
       "      <td>159660.80</td>\n",
       "      <td>3</td>\n",
       "      <td>1</td>\n",
       "      <td>0</td>\n",
       "      <td>113931.57</td>\n",
       "      <td>1</td>\n",
       "    </tr>\n",
       "    <tr>\n",
       "      <th>3</th>\n",
       "      <td>4</td>\n",
       "      <td>15701354</td>\n",
       "      <td>Boni</td>\n",
       "      <td>699</td>\n",
       "      <td>France</td>\n",
       "      <td>Female</td>\n",
       "      <td>39</td>\n",
       "      <td>1</td>\n",
       "      <td>0.00</td>\n",
       "      <td>2</td>\n",
       "      <td>0</td>\n",
       "      <td>0</td>\n",
       "      <td>93826.63</td>\n",
       "      <td>0</td>\n",
       "    </tr>\n",
       "    <tr>\n",
       "      <th>4</th>\n",
       "      <td>5</td>\n",
       "      <td>15737888</td>\n",
       "      <td>Mitchell</td>\n",
       "      <td>850</td>\n",
       "      <td>Spain</td>\n",
       "      <td>Female</td>\n",
       "      <td>43</td>\n",
       "      <td>2</td>\n",
       "      <td>125510.82</td>\n",
       "      <td>1</td>\n",
       "      <td>1</td>\n",
       "      <td>1</td>\n",
       "      <td>79084.10</td>\n",
       "      <td>0</td>\n",
       "    </tr>\n",
       "  </tbody>\n",
       "</table>\n",
       "</div>"
      ],
      "text/plain": [
       "   RowNumber  CustomerId   Surname  CreditScore Geography  Gender  Age  \\\n",
       "0          1    15634602  Hargrave          619    France  Female   42   \n",
       "1          2    15647311      Hill          608     Spain  Female   41   \n",
       "2          3    15619304      Onio          502    France  Female   42   \n",
       "3          4    15701354      Boni          699    France  Female   39   \n",
       "4          5    15737888  Mitchell          850     Spain  Female   43   \n",
       "\n",
       "   Tenure    Balance  NumOfProducts  HasCrCard  IsActiveMember  \\\n",
       "0       2       0.00              1          1               1   \n",
       "1       1   83807.86              1          0               1   \n",
       "2       8  159660.80              3          1               0   \n",
       "3       1       0.00              2          0               0   \n",
       "4       2  125510.82              1          1               1   \n",
       "\n",
       "   EstimatedSalary  Exited  \n",
       "0        101348.88       1  \n",
       "1        112542.58       0  \n",
       "2        113931.57       1  \n",
       "3         93826.63       0  \n",
       "4         79084.10       0  "
      ]
     },
     "execution_count": 7,
     "metadata": {},
     "output_type": "execute_result"
    }
   ],
   "source": [
    "df.head()"
   ]
  },
  {
   "cell_type": "code",
   "execution_count": 8,
   "metadata": {},
   "outputs": [],
   "source": [
    "from sklearn.preprocessing import LabelEncoder, OneHotEncoder\n",
    "le=LabelEncoder()\n",
    "X[:,1]=le.fit_transform(X[:,1])\n",
    "le_2=LabelEncoder()\n",
    "X[:,2]=le_2.fit_transform(X[:,2])\n"
   ]
  },
  {
   "cell_type": "code",
   "execution_count": 9,
   "metadata": {},
   "outputs": [],
   "source": [
    "ohe = OneHotEncoder(categorical_features=[1])\n",
    "X= ohe.fit_transform(X).toarray()\n",
    "X = X[:, 1:]"
   ]
  },
  {
   "cell_type": "code",
   "execution_count": 10,
   "metadata": {},
   "outputs": [
    {
     "data": {
      "text/plain": [
       "(10000, 11)"
      ]
     },
     "execution_count": 10,
     "metadata": {},
     "output_type": "execute_result"
    }
   ],
   "source": [
    "X.shape"
   ]
  },
  {
   "cell_type": "code",
   "execution_count": 11,
   "metadata": {},
   "outputs": [
    {
     "name": "stderr",
     "output_type": "stream",
     "text": [
      "C:\\Users\\aniru\\Anaconda3\\envs\\tensorflow\\lib\\site-packages\\sklearn\\cross_validation.py:41: DeprecationWarning: This module was deprecated in version 0.18 in favor of the model_selection module into which all the refactored classes and functions are moved. Also note that the interface of the new CV iterators are different from that of this module. This module will be removed in 0.20.\n",
      "  \"This module will be removed in 0.20.\", DeprecationWarning)\n"
     ]
    }
   ],
   "source": [
    "from sklearn.cross_validation import train_test_split"
   ]
  },
  {
   "cell_type": "code",
   "execution_count": 12,
   "metadata": {},
   "outputs": [],
   "source": [
    "X_Train, X_Test, Y_Train, Y_Test= train_test_split(X, Y, test_size=0.2)"
   ]
  },
  {
   "cell_type": "code",
   "execution_count": 13,
   "metadata": {},
   "outputs": [],
   "source": [
    "from sklearn.preprocessing import StandardScaler\n",
    "sc_X=StandardScaler()\n",
    "X_Train=sc_X.fit_transform(X_Train)\n",
    "X_Test=sc_X.fit_transform(X_Test)"
   ]
  },
  {
   "cell_type": "code",
   "execution_count": 21,
   "metadata": {},
   "outputs": [],
   "source": [
    "import theano\n",
    "import tensorflow\n",
    "import keras"
   ]
  },
  {
   "cell_type": "code",
   "execution_count": 15,
   "metadata": {},
   "outputs": [],
   "source": [
    "from sklearn.linear_model import LogisticRegression"
   ]
  },
  {
   "cell_type": "markdown",
   "metadata": {},
   "source": [
    "# Logistic Regression on the field!"
   ]
  },
  {
   "cell_type": "code",
   "execution_count": 16,
   "metadata": {},
   "outputs": [],
   "source": [
    "classifier=LogisticRegression()"
   ]
  },
  {
   "cell_type": "code",
   "execution_count": 17,
   "metadata": {},
   "outputs": [
    {
     "data": {
      "text/plain": [
       "LogisticRegression(C=1.0, class_weight=None, dual=False, fit_intercept=True,\n",
       "          intercept_scaling=1, max_iter=100, multi_class='ovr', n_jobs=1,\n",
       "          penalty='l2', random_state=None, solver='liblinear', tol=0.0001,\n",
       "          verbose=0, warm_start=False)"
      ]
     },
     "execution_count": 17,
     "metadata": {},
     "output_type": "execute_result"
    }
   ],
   "source": [
    "classifier.fit(X_Train, Y_Train)"
   ]
  },
  {
   "cell_type": "code",
   "execution_count": 18,
   "metadata": {},
   "outputs": [],
   "source": [
    "Y_pred=classifier.predict(X_Test)"
   ]
  },
  {
   "cell_type": "code",
   "execution_count": 19,
   "metadata": {},
   "outputs": [],
   "source": [
    "from sklearn.metrics import confusion_matrix\n",
    "cm= confusion_matrix(Y_Test,Y_pred)"
   ]
  },
  {
   "cell_type": "code",
   "execution_count": 25,
   "metadata": {},
   "outputs": [
    {
     "name": "stdout",
     "output_type": "stream",
     "text": [
      "[[1545   46]\n",
      " [ 328   81]]\n",
      "Accuracy =\n",
      "0.812\n"
     ]
    }
   ],
   "source": [
    "print(cm)\n",
    "print(\"Accuracy =\")\n",
    "print((1550+74)/2000)"
   ]
  },
  {
   "cell_type": "markdown",
   "metadata": {},
   "source": [
    "# Go ANN!"
   ]
  },
  {
   "cell_type": "code",
   "execution_count": 211,
   "metadata": {},
   "outputs": [],
   "source": [
    "from keras.models import Sequential\n",
    "from keras.layers import Dense"
   ]
  },
  {
   "cell_type": "code",
   "execution_count": 212,
   "metadata": {},
   "outputs": [],
   "source": [
    "clr= Sequential()\n"
   ]
  },
  {
   "cell_type": "markdown",
   "metadata": {},
   "source": [
    "# Training the ANN with Stochastic Gradient Descent"
   ]
  },
  {
   "cell_type": "code",
   "execution_count": 241,
   "metadata": {},
   "outputs": [],
   "source": [
    "clr.add(Dense(units=6, kernel_initializer=\"uniform\", activation= \"relu\", input_dim=11))"
   ]
  },
  {
   "cell_type": "code",
   "execution_count": 242,
   "metadata": {},
   "outputs": [],
   "source": [
    "clr.add(Dense(units=6, kernel_initializer=\"uniform\", activation= \"relu\"))"
   ]
  },
  {
   "cell_type": "code",
   "execution_count": 243,
   "metadata": {},
   "outputs": [],
   "source": [
    "clr.add(Dense(units=1, kernel_initializer=\"uniform\", activation= \"sigmoid\"))"
   ]
  },
  {
   "cell_type": "code",
   "execution_count": 244,
   "metadata": {},
   "outputs": [],
   "source": [
    "#if more than one dependant variables, use Softmax and make output dim as no of dependant varibles\n",
    "#also use performance tuning\n",
    "#more than one dependant othr loss function\n",
    "clr.compile(optimizer=\"adam\", loss=\"binary_crossentropy\", metrics=[\"accuracy\"])"
   ]
  },
  {
   "cell_type": "code",
   "execution_count": 245,
   "metadata": {},
   "outputs": [
    {
     "data": {
      "text/plain": [
       "(8000, 11)"
      ]
     },
     "execution_count": 245,
     "metadata": {},
     "output_type": "execute_result"
    }
   ],
   "source": [
    "X_Train.shape"
   ]
  },
  {
   "cell_type": "code",
   "execution_count": 246,
   "metadata": {},
   "outputs": [
    {
     "data": {
      "text/plain": [
       "(8000,)"
      ]
     },
     "execution_count": 246,
     "metadata": {},
     "output_type": "execute_result"
    }
   ],
   "source": [
    "Y_Train.shape"
   ]
  },
  {
   "cell_type": "code",
   "execution_count": 253,
   "metadata": {},
   "outputs": [
    {
     "name": "stdout",
     "output_type": "stream",
     "text": [
      "Epoch 1/100\n",
      "8000/8000 [==============================] - 2s 277us/step - loss: 0.5083 - acc: 0.7942\n",
      "Epoch 2/100\n",
      "8000/8000 [==============================] - 2s 308us/step - loss: 0.5083 - acc: 0.7942\n",
      "Epoch 3/100\n",
      "8000/8000 [==============================] - 2s 305us/step - loss: 0.5083 - acc: 0.7942\n",
      "Epoch 4/100\n",
      "8000/8000 [==============================] - 3s 325us/step - loss: 0.5083 - acc: 0.7942\n",
      "Epoch 5/100\n",
      "8000/8000 [==============================] - 3s 353us/step - loss: 0.5083 - acc: 0.7942 0s - loss: 0.5068 -\n",
      "Epoch 6/100\n",
      "8000/8000 [==============================] - 3s 338us/step - loss: 0.5083 - acc: 0.7942\n",
      "Epoch 7/100\n",
      "8000/8000 [==============================] - 2s 301us/step - loss: 0.5083 - acc: 0.7942\n",
      "Epoch 8/100\n",
      "8000/8000 [==============================] - 2s 259us/step - loss: 0.5083 - acc: 0.7942\n",
      "Epoch 9/100\n",
      "8000/8000 [==============================] - 2s 304us/step - loss: 0.5083 - acc: 0.7942\n",
      "Epoch 10/100\n",
      "8000/8000 [==============================] - 3s 330us/step - loss: 0.5083 - acc: 0.7942\n",
      "Epoch 11/100\n",
      "8000/8000 [==============================] - 2s 308us/step - loss: 0.5083 - acc: 0.7942\n",
      "Epoch 12/100\n",
      "8000/8000 [==============================] - 3s 350us/step - loss: 0.5083 - acc: 0.7942\n",
      "Epoch 13/100\n",
      "8000/8000 [==============================] - 2s 308us/step - loss: 0.5083 - acc: 0.7942\n",
      "Epoch 14/100\n",
      "8000/8000 [==============================] - 3s 328us/step - loss: 0.5083 - acc: 0.7942\n",
      "Epoch 15/100\n",
      "8000/8000 [==============================] - 2s 268us/step - loss: 0.5083 - acc: 0.7942\n",
      "Epoch 16/100\n",
      "8000/8000 [==============================] - 2s 294us/step - loss: 0.5083 - acc: 0.7942\n",
      "Epoch 17/100\n",
      "8000/8000 [==============================] - 3s 337us/step - loss: 0.5083 - acc: 0.7942\n",
      "Epoch 18/100\n",
      "8000/8000 [==============================] - 3s 323us/step - loss: 0.5083 - acc: 0.7942\n",
      "Epoch 19/100\n",
      "8000/8000 [==============================] - 2s 310us/step - loss: 0.5083 - acc: 0.7942\n",
      "Epoch 20/100\n",
      "8000/8000 [==============================] - 3s 331us/step - loss: 0.5083 - acc: 0.7942\n",
      "Epoch 21/100\n",
      "8000/8000 [==============================] - 2s 298us/step - loss: 0.5083 - acc: 0.7942\n",
      "Epoch 22/100\n",
      "8000/8000 [==============================] - 2s 301us/step - loss: 0.5083 - acc: 0.7942\n",
      "Epoch 23/100\n",
      "8000/8000 [==============================] - 2s 296us/step - loss: 0.5083 - acc: 0.7942\n",
      "Epoch 24/100\n",
      "8000/8000 [==============================] - 3s 319us/step - loss: 0.5083 - acc: 0.7942\n",
      "Epoch 25/100\n",
      "8000/8000 [==============================] - 2s 302us/step - loss: 0.5083 - acc: 0.7942\n",
      "Epoch 26/100\n",
      "8000/8000 [==============================] - 2s 289us/step - loss: 0.5083 - acc: 0.7942 1s\n",
      "Epoch 27/100\n",
      "8000/8000 [==============================] - 3s 314us/step - loss: 0.5083 - acc: 0.7942\n",
      "Epoch 28/100\n",
      "8000/8000 [==============================] - 2s 285us/step - loss: 0.5083 - acc: 0.7942\n",
      "Epoch 29/100\n",
      "8000/8000 [==============================] - 2s 287us/step - loss: 0.5083 - acc: 0.7942\n",
      "Epoch 30/100\n",
      "8000/8000 [==============================] - 3s 313us/step - loss: 0.5083 - acc: 0.7942\n",
      "Epoch 31/100\n",
      "8000/8000 [==============================] - 2s 290us/step - loss: 0.5083 - acc: 0.7942\n",
      "Epoch 32/100\n",
      "8000/8000 [==============================] - 3s 325us/step - loss: 0.5083 - acc: 0.7942 1s\n",
      "Epoch 33/100\n",
      "8000/8000 [==============================] - 2s 301us/step - loss: 0.5083 - acc: 0.7942 0s - loss: 0.51\n",
      "Epoch 34/100\n",
      "8000/8000 [==============================] - 2s 301us/step - loss: 0.5083 - acc: 0.7942\n",
      "Epoch 35/100\n",
      "8000/8000 [==============================] - 3s 324us/step - loss: 0.5083 - acc: 0.7942 0s - loss: 0.5074 - a\n",
      "Epoch 36/100\n",
      "8000/8000 [==============================] - 2s 279us/step - loss: 0.5083 - acc: 0.7942\n",
      "Epoch 37/100\n",
      "8000/8000 [==============================] - 2s 291us/step - loss: 0.5083 - acc: 0.7942\n",
      "Epoch 38/100\n",
      "8000/8000 [==============================] - 2s 286us/step - loss: 0.5083 - acc: 0.7942 0s - loss: 0.500\n",
      "Epoch 39/100\n",
      "8000/8000 [==============================] - 2s 288us/step - loss: 0.5083 - acc: 0.7942 1s - loss: 0.50\n",
      "Epoch 40/100\n",
      "8000/8000 [==============================] - 2s 299us/step - loss: 0.5083 - acc: 0.7942\n",
      "Epoch 41/100\n",
      "8000/8000 [==============================] - 3s 317us/step - loss: 0.5083 - acc: 0.7942\n",
      "Epoch 42/100\n",
      "8000/8000 [==============================] - 2s 304us/step - loss: 0.5083 - acc: 0.7942\n",
      "Epoch 43/100\n",
      "8000/8000 [==============================] - 2s 285us/step - loss: 0.5083 - acc: 0.7942 1s -\n",
      "Epoch 44/100\n",
      "8000/8000 [==============================] - 2s 293us/step - loss: 0.5083 - acc: 0.7942\n",
      "Epoch 45/100\n",
      "8000/8000 [==============================] - 2s 259us/step - loss: 0.5083 - acc: 0.7942\n",
      "Epoch 46/100\n",
      "8000/8000 [==============================] - 2s 253us/step - loss: 0.5083 - acc: 0.7942\n",
      "Epoch 47/100\n",
      "8000/8000 [==============================] - 2s 269us/step - loss: 0.5083 - acc: 0.7942\n",
      "Epoch 48/100\n",
      "8000/8000 [==============================] - 2s 276us/step - loss: 0.5083 - acc: 0.7942 0s - loss: 0.5078 - acc: \n",
      "Epoch 49/100\n",
      "8000/8000 [==============================] - 3s 359us/step - loss: 0.5083 - acc: 0.7942\n",
      "Epoch 50/100\n",
      "8000/8000 [==============================] - 2s 307us/step - loss: 0.5083 - acc: 0.7942\n",
      "Epoch 51/100\n",
      "8000/8000 [==============================] - 2s 262us/step - loss: 0.5083 - acc: 0.7942\n",
      "Epoch 52/100\n",
      "8000/8000 [==============================] - 2s 243us/step - loss: 0.5083 - acc: 0.7942\n",
      "Epoch 53/100\n",
      "8000/8000 [==============================] - 2s 278us/step - loss: 0.5083 - acc: 0.7942\n",
      "Epoch 54/100\n",
      "8000/8000 [==============================] - 2s 251us/step - loss: 0.5083 - acc: 0.7942\n",
      "Epoch 55/100\n",
      "8000/8000 [==============================] - 2s 273us/step - loss: 0.5083 - acc: 0.7942\n",
      "Epoch 56/100\n",
      "8000/8000 [==============================] - 2s 283us/step - loss: 0.5083 - acc: 0.7942\n",
      "Epoch 57/100\n",
      "8000/8000 [==============================] - 2s 281us/step - loss: 0.5083 - acc: 0.7942\n",
      "Epoch 58/100\n",
      "8000/8000 [==============================] - 2s 269us/step - loss: 0.5083 - acc: 0.7942\n",
      "Epoch 59/100\n",
      "8000/8000 [==============================] - 2s 223us/step - loss: 0.5083 - acc: 0.7942\n",
      "Epoch 60/100\n",
      "8000/8000 [==============================] - 2s 243us/step - loss: 0.5083 - acc: 0.7942\n",
      "Epoch 61/100\n",
      "8000/8000 [==============================] - 2s 264us/step - loss: 0.5083 - acc: 0.7942\n",
      "Epoch 62/100\n",
      "8000/8000 [==============================] - 3s 328us/step - loss: 0.5083 - acc: 0.7942\n",
      "Epoch 63/100\n",
      "8000/8000 [==============================] - 2s 247us/step - loss: 0.5083 - acc: 0.7942 0s - loss: 0.5110 - acc: 0.7\n",
      "Epoch 64/100\n",
      "8000/8000 [==============================] - 2s 252us/step - loss: 0.5083 - acc: 0.7942\n",
      "Epoch 65/100\n",
      "8000/8000 [==============================] - 2s 242us/step - loss: 0.5083 - acc: 0.7942\n",
      "Epoch 66/100\n",
      "8000/8000 [==============================] - 2s 284us/step - loss: 0.5083 - acc: 0.7942\n",
      "Epoch 67/100\n",
      "8000/8000 [==============================] - 2s 284us/step - loss: 0.5083 - acc: 0.7942\n",
      "Epoch 68/100\n",
      "8000/8000 [==============================] - 2s 282us/step - loss: 0.5083 - acc: 0.7942\n",
      "Epoch 69/100\n",
      "8000/8000 [==============================] - 3s 352us/step - loss: 0.5083 - acc: 0.7942 0s - loss: 0.5097 - acc: 0\n",
      "Epoch 70/100\n",
      "8000/8000 [==============================] - ETA: 0s - loss: 0.5085 - acc: 0.794 - 2s 294us/step - loss: 0.5083 - acc: 0.7942\n",
      "Epoch 71/100\n",
      "8000/8000 [==============================] - 2s 279us/step - loss: 0.5083 - acc: 0.7942\n",
      "Epoch 72/100\n",
      "8000/8000 [==============================] - 2s 288us/step - loss: 0.5083 - acc: 0.7942\n",
      "Epoch 73/100\n",
      "8000/8000 [==============================] - 2s 254us/step - loss: 0.5083 - acc: 0.7942\n",
      "Epoch 74/100\n",
      "8000/8000 [==============================] - 2s 248us/step - loss: 0.5083 - acc: 0.7942\n",
      "Epoch 75/100\n",
      "8000/8000 [==============================] - 2s 270us/step - loss: 0.5083 - acc: 0.7942\n",
      "Epoch 76/100\n",
      "8000/8000 [==============================] - 2s 298us/step - loss: 0.5083 - acc: 0.7942 1s - \n",
      "Epoch 77/100\n",
      "8000/8000 [==============================] - 2s 262us/step - loss: 0.5083 - acc: 0.7942\n",
      "Epoch 78/100\n",
      "8000/8000 [==============================] - 2s 279us/step - loss: 0.5083 - acc: 0.7942\n",
      "Epoch 79/100\n",
      "8000/8000 [==============================] - 2s 276us/step - loss: 0.5083 - acc: 0.7942\n"
     ]
    },
    {
     "name": "stdout",
     "output_type": "stream",
     "text": [
      "Epoch 80/100\n",
      "8000/8000 [==============================] - 2s 255us/step - loss: 0.5083 - acc: 0.7942\n",
      "Epoch 81/100\n",
      "8000/8000 [==============================] - 2s 270us/step - loss: 0.5083 - acc: 0.7942\n",
      "Epoch 82/100\n",
      "8000/8000 [==============================] - 2s 256us/step - loss: 0.5083 - acc: 0.7942\n",
      "Epoch 83/100\n",
      "8000/8000 [==============================] - 2s 271us/step - loss: 0.5083 - acc: 0.7942\n",
      "Epoch 84/100\n",
      "8000/8000 [==============================] - 2s 254us/step - loss: 0.5083 - acc: 0.7942\n",
      "Epoch 85/100\n",
      "8000/8000 [==============================] - 2s 270us/step - loss: 0.5083 - acc: 0.7942\n",
      "Epoch 86/100\n",
      "8000/8000 [==============================] - 2s 246us/step - loss: 0.5083 - acc: 0.7942\n",
      "Epoch 87/100\n",
      "8000/8000 [==============================] - 2s 263us/step - loss: 0.5083 - acc: 0.7942\n",
      "Epoch 88/100\n",
      "8000/8000 [==============================] - 2s 264us/step - loss: 0.5083 - acc: 0.7942\n",
      "Epoch 89/100\n",
      "8000/8000 [==============================] - 2s 276us/step - loss: 0.5083 - acc: 0.7942\n",
      "Epoch 90/100\n",
      "8000/8000 [==============================] - 2s 271us/step - loss: 0.5083 - acc: 0.7942\n",
      "Epoch 91/100\n",
      "8000/8000 [==============================] - 2s 260us/step - loss: 0.5083 - acc: 0.7942\n",
      "Epoch 92/100\n",
      "8000/8000 [==============================] - 2s 268us/step - loss: 0.5083 - acc: 0.7942\n",
      "Epoch 93/100\n",
      "8000/8000 [==============================] - 2s 266us/step - loss: 0.5083 - acc: 0.7942\n",
      "Epoch 94/100\n",
      "8000/8000 [==============================] - 2s 261us/step - loss: 0.5083 - acc: 0.7942\n",
      "Epoch 95/100\n",
      "8000/8000 [==============================] - 2s 263us/step - loss: 0.5083 - acc: 0.7942\n",
      "Epoch 96/100\n",
      "8000/8000 [==============================] - 2s 276us/step - loss: 0.5083 - acc: 0.7942\n",
      "Epoch 97/100\n",
      "8000/8000 [==============================] - 2s 279us/step - loss: 0.5083 - acc: 0.7942\n",
      "Epoch 98/100\n",
      "8000/8000 [==============================] - 2s 284us/step - loss: 0.5083 - acc: 0.7942\n",
      "Epoch 99/100\n",
      "8000/8000 [==============================] - 2s 280us/step - loss: 0.5083 - acc: 0.7942\n",
      "Epoch 100/100\n",
      "8000/8000 [==============================] - 2s 288us/step - loss: 0.5083 - acc: 0.7942\n"
     ]
    },
    {
     "data": {
      "text/plain": [
       "<keras.callbacks.History at 0x2260fbf3f98>"
      ]
     },
     "execution_count": 253,
     "metadata": {},
     "output_type": "execute_result"
    }
   ],
   "source": [
    "clr.fit(X_Train, Y_Train, batch_size=10, epochs=100)"
   ]
  },
  {
   "cell_type": "code",
   "execution_count": 254,
   "metadata": {},
   "outputs": [],
   "source": [
    "y_pred=clr.predict(X_Test)"
   ]
  },
  {
   "cell_type": "code",
   "execution_count": 255,
   "metadata": {},
   "outputs": [],
   "source": [
    "\n",
    "y_pred = (y_pred > 0.5)"
   ]
  },
  {
   "cell_type": "code",
   "execution_count": 256,
   "metadata": {},
   "outputs": [],
   "source": [
    "cm= confusion_matrix(Y_Test,y_pred)"
   ]
  },
  {
   "cell_type": "code",
   "execution_count": 257,
   "metadata": {},
   "outputs": [
    {
     "name": "stdout",
     "output_type": "stream",
     "text": [
      "[[1609    0]\n",
      " [ 391    0]]\n"
     ]
    }
   ],
   "source": [
    "print(cm)"
   ]
  },
  {
   "cell_type": "code",
   "execution_count": 258,
   "metadata": {},
   "outputs": [
    {
     "name": "stdout",
     "output_type": "stream",
     "text": [
      "[[False]\n",
      " [False]\n",
      " [False]\n",
      " ...\n",
      " [False]\n",
      " [False]\n",
      " [False]]\n"
     ]
    }
   ],
   "source": [
    "print(Y_pred)"
   ]
  },
  {
   "cell_type": "code",
   "execution_count": 28,
   "metadata": {},
   "outputs": [
    {
     "name": "stdout",
     "output_type": "stream",
     "text": [
      "Accuracy =\n",
      "0.8045\n"
     ]
    }
   ],
   "source": [
    "print(\"Accuracy =\")\n",
    "print((1609)/2000)"
   ]
  },
  {
   "cell_type": "code",
   "execution_count": null,
   "metadata": {},
   "outputs": [],
   "source": []
  }
 ],
 "metadata": {
  "kernelspec": {
   "display_name": "Python 3",
   "language": "python",
   "name": "python3"
  },
  "language_info": {
   "codemirror_mode": {
    "name": "ipython",
    "version": 3
   },
   "file_extension": ".py",
   "mimetype": "text/x-python",
   "name": "python",
   "nbconvert_exporter": "python",
   "pygments_lexer": "ipython3",
   "version": "3.5.4"
  }
 },
 "nbformat": 4,
 "nbformat_minor": 2
}
